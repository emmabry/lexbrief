{
 "cells": [
  {
   "cell_type": "code",
   "execution_count": 4,
   "metadata": {},
   "outputs": [],
   "source": [
    "from transformers import LEDTokenizer, LEDForConditionalGeneration\n",
    "from datasets import load_dataset\n",
    "\n",
    "tokenizer = LEDTokenizer.from_pretrained(\"allenai/led-base-16384\")\n",
    "model = LEDForConditionalGeneration.from_pretrained(\"allenai/led-base-16384\")\n",
    "\n",
    "max_input_length = 16384\n",
    "max_target_length = 256"
   ]
  },
  {
   "cell_type": "code",
   "execution_count": 5,
   "metadata": {},
   "outputs": [],
   "source": [
    "dataset = load_dataset(\"dennlinger/eur-lex-sum\", 'english')"
   ]
  },
  {
   "cell_type": "code",
   "execution_count": 9,
   "metadata": {},
   "outputs": [],
   "source": [
    "# Tokenise data \n",
    "def preprocess_data(dataset):\n",
    "    inputs = dataset['train']['reference']\n",
    "    targets = dataset['train']['summary']\n",
    "    \n",
    "    # Tokenise inputs\n",
    "    model_inputs = tokenizer(\n",
    "        inputs,\n",
    "        max_length=max_input_length,\n",
    "        padding=\"max_length\",\n",
    "        truncation=True,\n",
    "        return_tensors=\"pt\"\n",
    "    )\n",
    "    \n",
    "    # Classification token needs global attention so it can see the whole input context\n",
    "    global_attention_mask = [1] + [0] * (max_input_length - 1)\n",
    "    model_inputs[\"global_attention_mask\"] = [global_attention_mask] * len(inputs)\n",
    "    \n",
    "    # Tokenise targets\n",
    "    with tokenizer.as_target_tokenizer():\n",
    "        labels = tokenizer(\n",
    "            targets,\n",
    "            max_length=max_target_length,\n",
    "            padding=\"max_length\",\n",
    "            truncation=True,\n",
    "            return_tensors=\"pt\"\n",
    "        )\n",
    "    \n",
    "    model_inputs[\"labels\"] = labels[\"input_ids\"]\n",
    "    return model_inputs"
   ]
  }
 ],
 "metadata": {
  "kernelspec": {
   "display_name": ".venv",
   "language": "python",
   "name": "python3"
  },
  "language_info": {
   "codemirror_mode": {
    "name": "ipython",
    "version": 3
   },
   "file_extension": ".py",
   "mimetype": "text/x-python",
   "name": "python",
   "nbconvert_exporter": "python",
   "pygments_lexer": "ipython3",
   "version": "3.9.6"
  }
 },
 "nbformat": 4,
 "nbformat_minor": 2
}

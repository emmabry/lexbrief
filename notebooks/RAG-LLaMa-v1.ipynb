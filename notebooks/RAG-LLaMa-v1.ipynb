{
 "cells": [
  {
   "cell_type": "code",
   "execution_count": null,
   "metadata": {},
   "outputs": [
    {
     "name": "stderr",
     "output_type": "stream",
     "text": [
      "<>:12: SyntaxWarning: invalid escape sequence '\\.'\n",
      "<>:12: SyntaxWarning: invalid escape sequence '\\.'\n",
      "/var/folders/nc/x780mhyx3551dddkq5wy_z380000gn/T/ipykernel_97037/2922058846.py:12: SyntaxWarning: invalid escape sequence '\\.'\n",
      "  separators=[\"\\n\\n\", \"\\n\", \"(?<=\\. )\", \" \", \"\"]\n"
     ]
    }
   ],
   "source": [
    "from langchain.text_splitter import RecursiveCharacterTextSplitter\n",
    "from langchain.schema import Document\n",
    "\n",
    "with open(\"/Users/emma/msc_project/data/eur-lexsum/raw-data/train.source\", \"r\") as f:\n",
    "    legal_text = f.read().split('\\n')[0]  # getting first document\n",
    "\n",
    "text_splitter = RecursiveCharacterTextSplitter(\n",
    "    chunk_size=800,\n",
    "    chunk_overlap=200,\n",
    "    separators=[\"\\n\\n\", \"\\n\", \"(?<=\\. )\", \" \", \"\"]\n",
    ")\n",
    "docs = text_splitter.create_documents([legal_text])"
   ]
  },
  {
   "cell_type": "code",
   "execution_count": 8,
   "metadata": {},
   "outputs": [],
   "source": [
    "from langchain.embeddings import HuggingFaceEmbeddings\n",
    "from langchain.vectorstores import FAISS\n",
    "\n",
    "embeddings = HuggingFaceEmbeddings(\n",
    "    model_name=\"BAAI/bge-small-en-v1.5\",\n",
    "    model_kwargs={\"device\": \"cpu\"},\n",
    "    encode_kwargs={\"batch_size\": 4} \n",
    ")\n",
    "\n",
    "vectorstore = FAISS.from_documents(docs, embeddings)"
   ]
  },
  {
   "cell_type": "code",
   "execution_count": null,
   "metadata": {},
   "outputs": [
    {
     "name": "stderr",
     "output_type": "stream",
     "text": [
      "huggingface/tokenizers: The current process just got forked, after parallelism has already been used. Disabling parallelism to avoid deadlocks...\n",
      "To disable this warning, you can either:\n",
      "\t- Avoid using `tokenizers` before the fork if possible\n",
      "\t- Explicitly set the environment variable TOKENIZERS_PARALLELISM=(true | false)\n"
     ]
    },
    {
     "name": "stdout",
     "output_type": "stream",
     "text": [
      "\u001b[?25lpulling manifest ⠋ \u001b[?25h\u001b[?25l\u001b[2K\u001b[1Gpulling manifest ⠙ \u001b[?25h\u001b[?25l\u001b[2K\u001b[1Gpulling manifest ⠹ \u001b[?25h\u001b[?25l\u001b[2K\u001b[1Gpulling manifest ⠸ \u001b[?25h\u001b[?25l\u001b[2K\u001b[1Gpulling manifest ⠼ \u001b[?25h\u001b[?25l\u001b[2K\u001b[1Gpulling manifest \n",
      "pulling 6a0746a1ec1a... 100% ▕████████████████▏ 4.7 GB                         \n",
      "pulling 4fa551d4f938... 100% ▕████████████████▏  12 KB                         \n",
      "pulling 8ab4849b038c... 100% ▕████████████████▏  254 B                         \n",
      "pulling 577073ffcc6c... 100% ▕████████████████▏  110 B                         \n",
      "pulling 3f8eb4da87fa... 100% ▕████████████████▏  485 B                         \n",
      "verifying sha256 digest \n",
      "writing manifest \n",
      "removing any unused layers \n",
      "success \u001b[?25h\n",
      "NAME           \tID          \tSIZE  \tMODIFIED       \n",
      "llama3:latest  \t365c0bd3c000\t4.7 GB\t30 seconds ago\t\n",
      "llama3.1:latest\t62757c860e01\t4.7 GB\t11 months ago \t\n"
     ]
    },
    {
     "name": "stderr",
     "output_type": "stream",
     "text": [
      "huggingface/tokenizers: The current process just got forked, after parallelism has already been used. Disabling parallelism to avoid deadlocks...\n",
      "To disable this warning, you can either:\n",
      "\t- Avoid using `tokenizers` before the fork if possible\n",
      "\t- Explicitly set the environment variable TOKENIZERS_PARALLELISM=(true | false)\n"
     ]
    }
   ],
   "source": [
    "import time\n",
    "\n",
    "!ollama pull llama3\n",
    "\n",
    "time.sleep(30)\n",
    "\n",
    "!ollama list"
   ]
  },
  {
   "cell_type": "code",
   "execution_count": 13,
   "metadata": {},
   "outputs": [
    {
     "name": "stderr",
     "output_type": "stream",
     "text": [
      "<>:16: SyntaxWarning: invalid escape sequence '\\.'\n",
      "<>:16: SyntaxWarning: invalid escape sequence '\\.'\n",
      "/var/folders/nc/x780mhyx3551dddkq5wy_z380000gn/T/ipykernel_97037/4262438054.py:16: SyntaxWarning: invalid escape sequence '\\.'\n",
      "  separators=[\"\\n\\n\", \"\\n\", \"(?<=\\. )\", \" \"]\n"
     ]
    },
    {
     "name": "stdout",
     "output_type": "stream",
     "text": [
      "Created 21 document chunks\n",
      "\n",
      "Sample chunks:\n",
      "\n",
      "Chunk 1 (Length: 997 chars):\n",
      "L_2008328EN.01005501.xml 6.12.2008 EN Official Journal of the European Union L 328/55 COUNCIL FRAMEWORK DECISION 2008/913/JHA of 28 November 2008 on combating certain forms and expressions of racism a...\n",
      "\n",
      "Chunk 2 (Length: 997 chars):\n",
      "on how best to implement the provisions of the Treaty of Amsterdam on an area of freedom, security and justice (2), the Conclusions of the Tampere European Council of 15 and 16 October 1999, the Resol...\n",
      "\n",
      "Chunk 3 (Length: 993 chars):\n",
      "as already expressed by the European Council in December 2003. (3) Council Joint Action 96/443/JHA of 15 July 1996 concerning action to combat racism and xenophobia (4) should be followed by further l...\n"
     ]
    }
   ],
   "source": [
    "from langchain_community.llms import Ollama\n",
    "from langchain_community.vectorstores import FAISS\n",
    "from langchain_community.embeddings import HuggingFaceEmbeddings\n",
    "\n",
    "llm = Ollama(\n",
    "    model=\"llama3\",  \n",
    "    temperature=0.1  \n",
    ")\n",
    "\n",
    "with open(\"/Users/emma/msc_project/data/eur-lexsum/raw-data/train.source\", \"r\") as f:\n",
    "    legal_text = f.readline().strip()\n",
    "\n",
    "text_splitter = RecursiveCharacterTextSplitter(\n",
    "    chunk_size=1000,\n",
    "    chunk_overlap=200,\n",
    "    separators=[\"\\n\\n\", \"\\n\", \"(?<=\\. )\", \" \"]\n",
    ")\n",
    "\n",
    "docs = text_splitter.create_documents(\n",
    "    texts=[legal_text],\n",
    "    metadatas=[{\"source\": \"train.source\"}] \n",
    ")\n",
    "\n",
    "print(f\"Created {len(docs)} document chunks\")\n",
    "\n",
    "print(\"\\nSample chunks:\")\n",
    "for i, chunk in enumerate(docs[:3]):  \n",
    "    print(f\"\\nChunk {i+1} (Length: {len(chunk.page_content)} chars):\")\n",
    "    print(chunk.page_content[:200] + \"...\" if len(chunk.page_content) > 200 else chunk.page_content)\n",
    "\n",
    "embeddings = HuggingFaceEmbeddings(\n",
    "    model_name=\"BAAI/bge-small-en-v1.5\",\n",
    "    model_kwargs={\"device\": \"cpu\"} # Or cuda (colab GPU usage ran out while testing)\n",
    ")\n",
    "\n",
    "vectorstore = FAISS.from_documents(docs, embeddings) "
   ]
  },
  {
   "cell_type": "code",
   "execution_count": 14,
   "metadata": {},
   "outputs": [],
   "source": [
    "def ask_legal_question(question):\n",
    "    relevant_docs = vectorstore.similarity_search(\n",
    "        question, \n",
    "        k=3,  \n",
    "        filter={\"source\": \"train.source\"}  \n",
    "    )\n",
    "    context = \"\\n\\nDOCUMENT EXCERPTS:\\n\" + \"\\n---\\n\".join([doc.page_content for doc in relevant_docs])\n",
    "    \n",
    "    prompt = f\"\"\"You are a senior EU legal analyst. Provide a complete response to the question using ONLY the provided legal document excerpts.\n",
    "\n",
    "{context}\n",
    "\n",
    "QUESTION: {question}\n",
    "\n",
    "RESPONSE REQUIREMENTS:\n",
    "1. Begin with \"Under [Legal Instrument]\" if cited in documents\n",
    "2. Answer comprehensively with:\n",
    "   - Key legal provisions\n",
    "   - Relevant article references\n",
    "   - Jurisdictional scope when applicable\n",
    "3. Structure using bullet points for clarity\n",
    "4. Never speculate - respond \"Not specified in document\" for missing information\n",
    "\n",
    "ADDITIONAL RULES:\n",
    "- Prioritize direct quotes from text\n",
    "- Highlight definitions if present\"\"\"\n",
    "\n",
    "    try:\n",
    "        response = llm.invoke(prompt)\n",
    "        print(f\"debugging: {context}\")\n",
    "        print(\"----------\")\n",
    "        return response\n",
    "        \n",
    "    except Exception as e:\n",
    "        return f\"Error: {str(e)}\""
   ]
  },
  {
   "cell_type": "code",
   "execution_count": 15,
   "metadata": {},
   "outputs": [
    {
     "name": "stdout",
     "output_type": "stream",
     "text": [
      "debugging: \n",
      "\n",
      "DOCUMENT EXCERPTS:\n",
      "colour, religion, descent or national or ethnic origin. (10) This Framework Decision does not prevent a Member State from adopting provisions in national law which extend Article 1(1)(c) and (d) to crimes directed against a group of persons defined by other criteria than race, colour, religion, descent or national or ethnic origin, such as social status or political convictions. (11) It should be ensured that investigations and prosecutions of offences involving racism and xenophobia are not dependent on reports or accusations made by victims, who are often particularly vulnerable and reluctant to initiate legal proceedings. (12) Approximation of criminal law should lead to combating racist and xenophobic offences more effectively, by promoting a full and effective judicial cooperation between Member States. The difficulties which may exist in this field should be taken into account by the Council when reviewing this Framework Decision with a view to considering whether further steps\n",
      "---\n",
      "system and: (a) the offender commits the conduct when physically present in its territory, whether or not the conduct involves material hosted on an information system in its territory; (b) the conduct involves material hosted on an information system in its territory, whether or not the offender commits the conduct when physically present in its territory. 3. A Member State may decide not to apply, or to apply only in specific cases or circumstances, the jurisdiction rule set out in paragraphs 1(b) and (c). Article 10 Implementation and review 1. Member States shall take the necessary measures to comply with the provisions of this Framework Decision by 28 November 2010. 2. By the same date Member States shall transmit to the General Secretariat of the Council and to the Commission the text of the provisions transposing into their national law the obligations imposed on them under this Framework Decision. On the basis of a report established using this information by the Council and a\n",
      "---\n",
      "in other media have led in many Member States to procedural guarantees and to special rules in national law as to the determination or limitation of liability. (16) Joint Action 96/443/JHA should be repealed since, with the entry into force of the Treaty of Amsterdam, Council Directive 2000/43/EC of 29 June 2000 implementing the principle of equal treatment between persons irrespective of racial or ethnic origin (5) and this Framework Decision, it becomes obsolete, HAS ADOPTED THIS FRAMEWORK DECISION: Article 1 Offences concerning racism and xenophobia 1. Each Member State shall take the measures necessary to ensure that the following intentional conduct is punishable: (a) publicly inciting to violence or hatred directed against a group of persons or a member of such a group defined by reference to race, colour, religion, descent or national or ethnic origin; (b) the commission of an act referred to in point (a) by public dissemination or distribution of tracts, pictures or other\n",
      "----------\n",
      "Under the Framework Decision:\n",
      "\n",
      "This Framework Decision covers intentional conduct that is punishable, specifically:\n",
      "\n",
      "• Publicly inciting to violence or hatred directed against a group of persons or a member of such a group defined by reference to race, colour, religion, descent or national or ethnic origin (Article 1(a))\n",
      "• The commission of an act referred to in point (a) by public dissemination or distribution of tracts, pictures or other materials (Article 1(b))\n",
      "\n",
      "These offenses are punishable and Member States shall take the necessary measures to ensure that they are criminalized.\n"
     ]
    }
   ],
   "source": [
    "print(ask_legal_question(\"Which types of offenses does this Framework Decision cover?\"))"
   ]
  },
  {
   "cell_type": "code",
   "execution_count": 16,
   "metadata": {},
   "outputs": [
    {
     "name": "stdout",
     "output_type": "stream",
     "text": [
      "debugging: \n",
      "\n",
      "DOCUMENT EXCERPTS:\n",
      "Member States. The difficulties which may exist in this field should be taken into account by the Council when reviewing this Framework Decision with a view to considering whether further steps in this area are necessary. (13) Since the objective of this Framework Decision, namely ensuring that racist and xenophobic offences are sanctioned in all Member States by at least a minimum level of effective, proportionate and dissuasive criminal penalties, cannot be sufficiently achieved by the Member States individually, since such rules have to be common and compatible and since this objective can therefore be better achieved at the level of the European Union, the Union may adopt measures, in accordance with the principle of subsidiarity as referred to in Article 2 of the Treaty on European Union and as set out in Article 5 of the Treaty establishing the European Community. In accordance with the principle of proportionality, as set out in the latter Article, this Framework Decision does\n",
      "---\n",
      "system and: (a) the offender commits the conduct when physically present in its territory, whether or not the conduct involves material hosted on an information system in its territory; (b) the conduct involves material hosted on an information system in its territory, whether or not the offender commits the conduct when physically present in its territory. 3. A Member State may decide not to apply, or to apply only in specific cases or circumstances, the jurisdiction rule set out in paragraphs 1(b) and (c). Article 10 Implementation and review 1. Member States shall take the necessary measures to comply with the provisions of this Framework Decision by 28 November 2010. 2. By the same date Member States shall transmit to the General Secretariat of the Council and to the Commission the text of the provisions transposing into their national law the obligations imposed on them under this Framework Decision. On the basis of a report established using this information by the Council and a\n",
      "---\n",
      "and as set out in Article 5 of the Treaty establishing the European Community. In accordance with the principle of proportionality, as set out in the latter Article, this Framework Decision does not go beyond what is necessary in order to achieve that objective. (14) This Framework Decision respects the fundamental rights and observes the principles recognised by Article 6 of the Treaty on European Union and by the European Convention for the Protection of Human Rights and Fundamental Freedoms, in particular Articles 10 and 11 thereof, and reflected in the Charter of Fundamental Rights of the European Union, and notably Chapters II and VI thereof. (15) Considerations relating to freedom of association and freedom of expression, in particular freedom of the press and freedom of expression in other media have led in many Member States to procedural guarantees and to special rules in national law as to the determination or limitation of liability. (16) Joint Action 96/443/JHA should be\n",
      "----------\n",
      "Under Framework Decision on Combating Racism and Xenophobia:\n",
      "\n",
      "The jurisdictional scope of this Framework Decision is clarified in Article 2, which states:\n",
      "\n",
      "* \"This Framework Decision shall apply to the following conduct: (a) the offender commits the conduct when physically present in its territory, whether or not the conduct involves material hosted on an information system in its territory; (b) the conduct involves material hosted on an information system in its territory, whether or not the offender commits the conduct when physically present in its territory.\"\n",
      "\n",
      "This provision indicates that the Framework Decision applies to conduct that occurs within EU countries, as well as to conduct that involves material hosted on an information system located within those countries, regardless of where the offender is physically present.\n",
      "\n",
      "Additionally, Article 3 allows Member States to decide not to apply or to apply only in specific cases or circumstances the jurisdiction rule set out in paragraphs (b) and (c), which further clarifies the scope of application.\n",
      "\n",
      "Key legal provisions:\n",
      "\n",
      "* Article 2: Jurisdictional scope\n",
      "* Article 3: Flexibility in applying jurisdiction rules\n",
      "\n",
      "Relevant article references:\n",
      "\n",
      "* None specified\n"
     ]
    }
   ],
   "source": [
    "print(ask_legal_question(\"Does this Decision apply only within EU countries or also outside?\"))"
   ]
  }
 ],
 "metadata": {
  "kernelspec": {
   "display_name": ".venv",
   "language": "python",
   "name": "python3"
  },
  "language_info": {
   "codemirror_mode": {
    "name": "ipython",
    "version": 3
   },
   "file_extension": ".py",
   "mimetype": "text/x-python",
   "name": "python",
   "nbconvert_exporter": "python",
   "pygments_lexer": "ipython3",
   "version": "3.13.2"
  }
 },
 "nbformat": 4,
 "nbformat_minor": 2
}

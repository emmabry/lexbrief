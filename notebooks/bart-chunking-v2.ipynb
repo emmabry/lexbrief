{
 "cells": [
  {
   "cell_type": "markdown",
   "metadata": {},
   "source": [
    "BART + chunking + concatenation will provide the inference baseline to compare my work against. This is the simplest method for my task of policy text summarisation, as it just involves using a pre-trained model (BART), chunking the inputs due to the 512 token limit, and then concatenating the outputs to provide a full summarisation of the policy text. ROUGE will be used to evaluate the effectiveness of this method, and these figures will be used for comparing my subsequent models to demonstrate the impact of different methods."
   ]
  },
  {
   "cell_type": "code",
   "execution_count": 1,
   "metadata": {},
   "outputs": [
    {
     "name": "stderr",
     "output_type": "stream",
     "text": [
      "/Users/emma/msc_project/.venv/lib/python3.9/site-packages/urllib3/__init__.py:35: NotOpenSSLWarning: urllib3 v2 only supports OpenSSL 1.1.1+, currently the 'ssl' module is compiled with 'LibreSSL 2.8.3'. See: https://github.com/urllib3/urllib3/issues/3020\n",
      "  warnings.warn(\n",
      "/Users/emma/msc_project/.venv/lib/python3.9/site-packages/tqdm/auto.py:21: TqdmWarning: IProgress not found. Please update jupyter and ipywidgets. See https://ipywidgets.readthedocs.io/en/stable/user_install.html\n",
      "  from .autonotebook import tqdm as notebook_tqdm\n",
      "Device set to use mps:0\n"
     ]
    }
   ],
   "source": [
    "from transformers import pipeline\n",
    "\n",
    "summarizer = pipeline(\"summarization\", model=\"facebook/bart-large-cnn\")\n",
    "\n",
    "from datasets import load_dataset\n",
    "\n",
    "dataset = load_dataset(\"dennlinger/eur-lex-sum\", 'english')"
   ]
  },
  {
   "cell_type": "code",
   "execution_count": 3,
   "metadata": {},
   "outputs": [
    {
     "name": "stderr",
     "output_type": "stream",
     "text": [
      "Your max_length is set to 130, but your input_length is only 45. Since this is a summarization task, where outputs shorter than the input are typically wanted, you might consider decreasing max_length manually, e.g. summarizer('...', max_length=22)\n"
     ]
    },
    {
     "name": "stdout",
     "output_type": "stream",
     "text": [
      "Combined summary:\n",
      " Regulation (EU) 2017/1129 lays down requirements to be complied with when drawing up prospectuses. The content and the format of a prospectus depend on a variety of factors, such as the type of issuer, type of security and type of issuance. The prospectus should contain a working capital statement as well as a statement of capitalisation and indebtedness of the issuer of the underlying shares. Derivative securities entail particular risks for investors. A high level of investor protection should be ensured, the EU says. It adds that certain types of securities that are not covered by the Annexes to this Regulation will be offered to the public. ‘Third country market’ means a third country market which has been deemed equivalent to a regulated market in accordance with the requirements set out in third and fourth subparagraphs of Article 25(4) of Directive 2014/65/EU of the European Parliament and of the Council (3) ‘profit estimate’ is a profit forecast for a financial period which has ...\n",
      "Combined summary:\n",
      " Decision on the harmonisation of radio spectrum for equipment using ultra-wideband technology in the Union. It ensures that radio spectrum is available across the Union under harmonised conditions. It aims at creating an effective single market for UWB systems. ‘Maximum mean power spectral density’ means the average power per unit bandwidth (centred on that frequency) radiated in the direction of the maximum level under the specified conditions. of the radio device under test at a particular frequency. ‘peak power’ is the power contained within a 50 MHz bandwidth at the frequency at which the highest mean radiated power occurs. (j) ‘onboard aircraft’ Means the use of radio links for communications purposes inside an aircraft. (k) 'LT1' means systems intended for general location tracking of people and objects. ‘Trigger-before-transmit’ mitigation is defined as a UWB transmission that is only initiated when necessary, specifically where the system indicates that UWB devices are nearby.  ...\n",
      "Combined summary:\n",
      " All allowances issued from 1 January 2012 onwards are held in a Union Registry. A new period of economy-wide legislation applies from 2021 that is the start of a new period for the EU ETS. The Union Registry is a standardised and secured electronic database containing common data elements. From 3 January 2018 spot emission allowances listed in point (11) of Section C of Annex I to Directive 2014/65/EU are classified as financial instruments. This classification means that spot emission allowance come within the scope of Directive 98/26/EC of the European Parliament and of the Council. The requirements laid down in Regulation (EU) No 389/2013 should be reviewed and updated with the purpose of ensuring their effectiveness while taking into account proportionality. accounts, authentication and access rights should be applied to protect the security of information held in the Union Registry. This Regulation lays down general, operational and maintenance requirements concerning the Union Re ...\n",
      "Combined summary:\n",
      " Rules on the operation of the Innovation Fund should be established taking into account lessons learnt from the NER300 programme. Detailed rules on the disbursement of grants should therefore be established. It is important to achieve a balanced distribution of the innovation fund support. The Commission should ensure the implementation of the Innovation Fund. The Commission should be enabled to delegate some of the implementation actions to implementing bodies. Member States should play an important role in the implementation. The relevant costs of a small-scale project shall be the total capital expenditure costs of that project. The amount of the Innovation Fund support disbursed in accordance with paragraph 5 of Article 6 after the financial close shall be dependent on the avoidance of greenhouse gas emissions. The Commission reserves a part of the total amount of the Innovation Fund support available for the call to small-scale projects. A simplified application procedure may be a ...\n",
      "Combined summary:\n",
      " The European Union and the Government of the People's Republic of China have signed an agreement on civil aviation safety. The aim is to enable the reciprocal acceptance of findings of compliance and certificates issued by either Party's Competent Authorities. The scope of cooperation under this Agreement includes the following areas: airworthiness Certificates and Monitoring of Civil Aeronautical Products. Nothing in this Agreement shall be construed as limiting the authority of a Party to: (a) Determine, through its legislative, regulatory and administrative measures, the level of protection it considers appropriate for safety. (b) Take all appropriate and immediate measures whenever there is a reasonable risk that a product, a service or any activity within the scope of this Agreement, may compromise the health or safety of persons or the environment. A Joint Committee is established, consisting of representatives from each Party. The Joint Committee shall be responsible for the eff ...\n"
     ]
    }
   ],
   "source": [
    "import pandas as pd\n",
    "\n",
    "# Chunking inputs\n",
    "def chunk_text(words, max_words=800):\n",
    "    for i in range(0, len(words), max_words):\n",
    "        yield ' '.join(words[i:i + max_words])\n",
    "\n",
    "results = []\n",
    "\n",
    "# Setting up inference loop\n",
    "for i, item in enumerate(dataset['train']):\n",
    "    if i >= 5:\n",
    "        break\n",
    "    words = item['reference'].split()\n",
    "    chunks = list(chunk_text(words))\n",
    "\n",
    "    # Summarise each chunk\n",
    "    summaries = []\n",
    "    for chunk in chunks:\n",
    "        summary = summarizer(\n",
    "            chunk,\n",
    "            max_length=130,\n",
    "            min_length=30,\n",
    "            do_sample=False\n",
    "        )\n",
    "        summaries.append(summary[0]['summary_text'])\n",
    "\n",
    "    # Combine\n",
    "    final_summary = \" \".join(summaries)\n",
    "    print(\"Combined summary:\\n\", final_summary[:1000], \"...\")\n",
    "    \n",
    "    results.append({\n",
    "        \"celex_id\": item['celex_id'],\n",
    "        \"generated_summary\": final_summary,\n",
    "        \"reference_summary\": item['summary']\n",
    "    })\n",
    "    \n",
    "# Save results to a DataFrame\n",
    "df = pd.DataFrame(results)\n",
    "# Save DataFrame to CSV\n",
    "df.to_csv('BART-chunking-summaries.csv', index=False)"
   ]
  },
  {
   "cell_type": "code",
   "execution_count": 4,
   "metadata": {},
   "outputs": [
    {
     "name": "stdout",
     "output_type": "stream",
     "text": [
      "         celex_id                                  generated_summary  \\\n",
      "0      32019R0980  Regulation (EU) 2017/1129 lays down requiremen...   \n",
      "1      32019D0785  Decision on the harmonisation of radio spectru...   \n",
      "2      32019R1122  All allowances issued from 1 January 2012 onwa...   \n",
      "3      32019R0856  Rules on the operation of the Innovation Fund ...   \n",
      "4  22020A0724(01)  The European Union and the Government of the P...   \n",
      "\n",
      "                                   reference_summary  \n",
      "0  Prospectus to be published when securities are...  \n",
      "1  Short range devices, RLAN (WiFi), Internet of ...  \n",
      "2  Union registry for emissions trading system al...  \n",
      "3  Emissions Trading System — Innovation Fund rul...  \n",
      "4  EU-China agreement on civil aviation safety\\nE...  \n"
     ]
    }
   ],
   "source": [
    "df = pd.read_csv('BART-chunking-summaries.csv')\n",
    "print(df.head())\n"
   ]
  },
  {
   "cell_type": "code",
   "execution_count": 6,
   "metadata": {},
   "outputs": [
    {
     "name": "stdout",
     "output_type": "stream",
     "text": [
      "Example 1:\n",
      "ROUGE-1 F1: 0.4100\n",
      "ROUGE-2 F1: 0.1364\n",
      "ROUGE-L F1: 0.1650\n",
      "------------------------------\n",
      "Example 2:\n",
      "ROUGE-1 F1: 0.1855\n",
      "ROUGE-2 F1: 0.0404\n",
      "ROUGE-L F1: 0.0989\n",
      "------------------------------\n",
      "Example 3:\n",
      "ROUGE-1 F1: 0.3864\n",
      "ROUGE-2 F1: 0.1342\n",
      "ROUGE-L F1: 0.1593\n",
      "------------------------------\n",
      "Example 4:\n",
      "ROUGE-1 F1: 0.3595\n",
      "ROUGE-2 F1: 0.1160\n",
      "ROUGE-L F1: 0.1704\n",
      "------------------------------\n",
      "Example 5:\n",
      "ROUGE-1 F1: 0.3997\n",
      "ROUGE-2 F1: 0.1318\n",
      "ROUGE-L F1: 0.1830\n",
      "------------------------------\n",
      "Average ROUGE-1 F1: 0.3482\n",
      "Average ROUGE-2 F1: 0.1118\n",
      "Average ROUGE-L F1: 0.1553\n"
     ]
    }
   ],
   "source": [
    "# ROUGE evaluation\n",
    "from rouge_score import rouge_scorer\n",
    "\n",
    "rouge1_f1_scores = []\n",
    "rouge2_f1_scores = []\n",
    "rougeL_f1_scores = []\n",
    "\n",
    "scorer = rouge_scorer.RougeScorer(['rouge1', 'rouge2', 'rougeL'], use_stemmer=True)\n",
    "\n",
    "for idx, row in df.iterrows():\n",
    "    reference = row['reference_summary']\n",
    "    generated = row['generated_summary']\n",
    "    scores = scorer.score(reference, generated)\n",
    "    \n",
    "    print(f\"Example {idx+1}:\")\n",
    "    print(f\"ROUGE-1 F1: {scores['rouge1'].fmeasure:.4f}\")\n",
    "    print(f\"ROUGE-2 F1: {scores['rouge2'].fmeasure:.4f}\")\n",
    "    print(f\"ROUGE-L F1: {scores['rougeL'].fmeasure:.4f}\")\n",
    "    print(\"-\" * 30)\n",
    "    \n",
    "    rouge1_f1_scores.append(scores['rouge1'].fmeasure)\n",
    "    rouge2_f1_scores.append(scores['rouge2'].fmeasure)\n",
    "    rougeL_f1_scores.append(scores['rougeL'].fmeasure)\n",
    "\n",
    "# Calculate average ROUGE scores across dataset\n",
    "avg_rouge1 = sum(rouge1_f1_scores) / len(rouge1_f1_scores)\n",
    "avg_rouge2 = sum(rouge2_f1_scores) / len(rouge2_f1_scores)\n",
    "avg_rougeL = sum(rougeL_f1_scores) / len(rougeL_f1_scores)\n",
    "\n",
    "print(f\"Average ROUGE-1 F1: {avg_rouge1:.4f}\")\n",
    "print(f\"Average ROUGE-2 F1: {avg_rouge2:.4f}\")\n",
    "print(f\"Average ROUGE-L F1: {avg_rougeL:.4f}\")"
   ]
  }
 ],
 "metadata": {
  "kernelspec": {
   "display_name": ".venv",
   "language": "python",
   "name": "python3"
  },
  "language_info": {
   "codemirror_mode": {
    "name": "ipython",
    "version": 3
   },
   "file_extension": ".py",
   "mimetype": "text/x-python",
   "name": "python",
   "nbconvert_exporter": "python",
   "pygments_lexer": "ipython3",
   "version": "3.9.6"
  }
 },
 "nbformat": 4,
 "nbformat_minor": 2
}

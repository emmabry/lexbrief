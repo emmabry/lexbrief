{
 "cells": [
  {
   "cell_type": "markdown",
   "metadata": {},
   "source": [
    "I will be testing out a hybrid extractive-abstractive pipeline to try and find the balance between an extractive model which adequately conveys the complexity of the legal text, and an abstractive model which translates dense legal language into a human-readable summary.\n",
    "\n",
    "I will use DistilBERT or RoBERTa for the extractive step, and BART/LLaMa for the abstractive set."
   ]
  },
  {
   "cell_type": "markdown",
   "metadata": {},
   "source": [
    "I will first start by extending my pre-existing extractive pipeline, adding in an abstractive step.\n"
   ]
  }
 ],
 "metadata": {
  "language_info": {
   "name": "python"
  }
 },
 "nbformat": 4,
 "nbformat_minor": 2
}

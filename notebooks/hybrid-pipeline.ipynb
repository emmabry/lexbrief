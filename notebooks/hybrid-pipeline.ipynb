{
 "cells": [
  {
   "cell_type": "markdown",
   "metadata": {},
   "source": [
    "I will be testing out a hybrid extractive-abstractive pipeline to try and find the balance between an extractive model which adequately conveys the complexity of the legal text, and an abstractive model which translates dense legal language into a human-readable summary."
   ]
  },
  {
   "cell_type": "markdown",
   "metadata": {},
   "source": [
    "I will follow Sie et al's (https://aclanthology.org/2024.nllp-1.2.pdf) dependent hybrid pipeline, using RoBERTa as this resulted in the optimal scores.\n",
    "1. Analyze the input document length:\n",
    "- Measure total sentences or tokens.\n",
    "- For shorter docs, extract fewer sentences, for longer docs, extract more. \n",
    "\n",
    "Extract relevant sentences accordingly:\n",
    "- Use a strong extractive method (RoBERTa) to pick the most informative sentences.\n",
    "- The number of sentences extracted = function of document length (e.g., 10% of sentences or a fixed max).\n",
    "\n",
    "Abstract the extracted sentences:\n",
    "- Use an abstractive summarisation model (BART or T5).\n",
    "- Feed the extracted sentences in sequence to generate a concise, readable summary.\n",
    "\n",
    "Post-processing:\n",
    "- Check for factual consistency and clarity.\n",
    "- Adjust summary length as needed.\n",
    "\n",
    "from paper:\n",
    "“The dependent hybrid model adapts the extractive stage output based on document length, balancing detail and conciseness.”\n",
    "\n",
    "“This method outperforms pure extractive or abstractive methods by combining faithful content selection with fluent rewriting.”\n",
    "\n",
    "“On legal and long-document datasets, our pipeline achieved ROUGE-1 improvements of X% over baselines, demonstrating better information retention.”\n"
   ]
  }
 ],
 "metadata": {
  "language_info": {
   "name": "python"
  }
 },
 "nbformat": 4,
 "nbformat_minor": 2
}
